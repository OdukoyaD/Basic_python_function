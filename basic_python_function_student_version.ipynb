{
 "cells": [
  {
   "cell_type": "markdown",
   "metadata": {},
   "source": [
    "# Introduction to Python Functions\n",
    "\n",
    "\n",
    "## Challenge 1\n",
    "A list of strings is passed through to the _`combine`_ function. Your task is to write the code which would return these strings combined into one sentence.\n",
    "\n",
    "For example: \n",
    "\n",
    "`>>> combine([\"Let's \", 'do ', 'this!'])`\n",
    "\n",
    "`\"Let's do this!\"` "
   ]
  },
  {
   "cell_type": "code",
   "execution_count": 89,
   "metadata": {},
   "outputs": [],
   "source": [
    "### START FUNCTION\n",
    "def combine(words):\n",
    "    # HINT: use the `.join()` string method to combine your words\n",
    "    # type: `sentence = \"\".join(words)`\n",
    "    sentence = ''.join(words) # this is where the sentence are joined with a space \n",
    "    return sentence\n",
    "### END FUNCTION"
   ]
  },
  {
   "cell_type": "markdown",
   "metadata": {},
   "source": [
    "You may upload your attempted solution to the Autograder as many times as you wish. In this sense, you could consider the Autograder not only as a marking program, but also to be a useful ally which can help check the correctness of your work - pointing out which questions may still need further effort on your part.\n",
    "\n",
    "Use the code block below to help test the correctness of the function you've developed. If the following statement returns `True`, then your solution may be working."
   ]
  },
  {
   "cell_type": "code",
   "execution_count": 90,
   "metadata": {},
   "outputs": [
    {
     "data": {
      "text/plain": [
       "True"
      ]
     },
     "execution_count": 90,
     "metadata": {},
     "output_type": "execute_result"
    }
   ],
   "source": [
    "combine(['I ','can ','code',' in ','Python!']) == 'I can code in Python!'"
   ]
  },
  {
   "cell_type": "markdown",
   "metadata": {},
   "source": [
    "**Expected Outputs:**\n",
    "```python\n",
    "combine(['Hello',', ','how',' ','are',' ','you','?']) == 'Hello, how are you?'\n",
    "combine(['I ','can ','code',' in ','Python!']) == 'I can code in Python!'\n",
    "```"
   ]
  },
  {
   "cell_type": "markdown",
   "metadata": {},
   "source": [
    "## Challenge 2\n",
    "In this task, we seek to perform the opposite operation from Challenge 1. A string is passed through to the _`separate`_ function. Your task is to write the code which will split the sentence into words, along each space character (\" \"), and return a list of strings.\n",
    "\n",
    "For example: \n",
    "\n",
    "`>>> separate(\"Let's do this!\")`\n",
    "\n",
    "`[\"Let's\", 'do', 'this!']` "
   ]
  },
  {
   "cell_type": "code",
   "execution_count": 10,
   "metadata": {},
   "outputs": [],
   "source": [
    "### START FUNCTION\n",
    "def separate(sentence):\n",
    "    # HINT: use the `.split()` string method to combine your words.\n",
    "    list_of_strings = sentence.split(' ')\n",
    "    # Don't forget to return your results\n",
    "    return list_of_strings\n",
    "### END FUNCTION"
   ]
  },
  {
   "cell_type": "code",
   "execution_count": 8,
   "metadata": {},
   "outputs": [
    {
     "data": {
      "text/plain": [
       "True"
      ]
     },
     "execution_count": 8,
     "metadata": {},
     "output_type": "execute_result"
    }
   ],
   "source": [
    "separate('Hello, how are you?') == ['Hello,', 'how', 'are', 'you?']"
   ]
  },
  {
   "cell_type": "markdown",
   "metadata": {},
   "source": [
    "**Expected Outputs:**\n",
    "```python\n",
    "separate('Hello, how are you?') == ['Hello,', 'how', 'are', 'you?']\n",
    "separate('I can code in Python!') == ['I', 'can', 'code', 'in', 'Python!']\n",
    "```"
   ]
  },
  {
   "cell_type": "markdown",
   "metadata": {},
   "source": [
    "## Challenge 3\n",
    "\n",
    "Similar to the previous task, write a function called _`edit`_ which takes a string sentence as input, capitalises each letter of the string, and splits this sentence into words along each space character (\" \"). The resulting strings need to be returned as a list, where each string must be in **UPPERCASE** letters.  \n",
    "\n",
    "For example: \n",
    "\n",
    "`>>> edit(\"Let's do this!\")`\n",
    "\n",
    "`[\"LET'S\", 'DO', 'THIS!']` "
   ]
  },
  {
   "cell_type": "code",
   "execution_count": 23,
   "metadata": {},
   "outputs": [],
   "source": [
    "### START FUNCTION\n",
    "def edit(sentence):\n",
    "    # HINT: use the `.upper()` and `.split()` methods \n",
    "    sentence = sentence.upper()\n",
    "    splitted = sentence.split(\" \")\n",
    "    return splitted\n",
    "### END FUNCTION"
   ]
  },
  {
   "cell_type": "code",
   "execution_count": 25,
   "metadata": {},
   "outputs": [
    {
     "data": {
      "text/plain": [
       "True"
      ]
     },
     "execution_count": 25,
     "metadata": {},
     "output_type": "execute_result"
    }
   ],
   "source": [
    "edit('Hello, how are you?') == ['HELLO,', 'HOW', 'ARE', 'YOU?']"
   ]
  },
  {
   "cell_type": "markdown",
   "metadata": {},
   "source": [
    "**Expected Outputs:**\n",
    "```python\n",
    "edit('Hello, how are you?') == ['HELLO,', 'HOW', 'ARE', 'YOU?']\n",
    "edit('I can code in Python!') == ['I', 'CAN', 'CODE', 'IN', 'PYTHON!']\n",
    "```"
   ]
  },
  {
   "cell_type": "code",
   "execution_count": 27,
   "metadata": {},
   "outputs": [
    {
     "data": {
      "text/plain": [
       "True"
      ]
     },
     "execution_count": 27,
     "metadata": {},
     "output_type": "execute_result"
    }
   ],
   "source": [
    "edit('I can code in Python!') == ['I', 'CAN', 'CODE', 'IN', 'PYTHON!']"
   ]
  }
 ],
 "metadata": {
  "kernelspec": {
   "display_name": "Python 3 (ipykernel)",
   "language": "python",
   "name": "python3"
  },
  "language_info": {
   "codemirror_mode": {
    "name": "ipython",
    "version": 3
   },
   "file_extension": ".py",
   "mimetype": "text/x-python",
   "name": "python",
   "nbconvert_exporter": "python",
   "pygments_lexer": "ipython3",
   "version": "3.9.7"
  }
 },
 "nbformat": 4,
 "nbformat_minor": 4
}
